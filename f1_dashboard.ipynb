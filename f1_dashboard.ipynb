{
 "cells": [
  {
   "cell_type": "code",
   "execution_count": 2,
   "id": "d61ba55a",
   "metadata": {},
   "outputs": [],
   "source": [
    "import streamlit as st\n",
    "import pandas as pd\n",
    "import altair as alt\n",
    "import plotly.express as px\n",
    "import fastf1 as f1\n",
    "from fastf1 import plotting\n",
    "import matplotlib.pyplot as plt\n",
    "import numpy as np\n",
    "import seaborn as sns\n",
    "from sklearn.linear_model import LinearRegression\n",
    "import nbimporter\n",
    "import matplotlib.colors as mcolors\n",
    "import matplotlib.cm as cm\n",
    "import plotly.graph_objects as go\n",
    "from PIL import Image, ImageDraw, ImageOps\n",
    "from PIL import ImageChops\n",
    "from matplotlib.patches import FancyBboxPatch\n",
    "from matplotlib.ticker import FuncFormatter\n",
    "from datetime import datetime\n",
    "import warnings\n",
    "warnings.filterwarnings('ignore')"
   ]
  },
  {
   "cell_type": "code",
   "execution_count": 3,
   "id": "a875c86b",
   "metadata": {},
   "outputs": [],
   "source": [
    "from f1functions import get_race_dfs\n",
    "from f1functions import get_quali_dfs\n",
    "from f1functions import highlight_last_five_rows\n",
    "from f1functions import get_quali_results\n",
    "from f1functions import get_gap_to_pole\n",
    "from f1functions import get_sector_times\n",
    "from f1functions import get_circuit_map\n",
    "from f1functions import get_wind_map\n",
    "from f1functions import plot_track_dominance\n",
    "from f1functions import compare_teammates\n",
    "from f1functions import compare_driver_stats\n",
    "from f1functions import create_race_results_table\n",
    "from f1functions import plot_tyre_strategy\n",
    "import warnings\n",
    "warnings.filterwarnings('ignore')"
   ]
  },
  {
   "cell_type": "code",
   "execution_count": 4,
   "id": "60b4c4dc",
   "metadata": {},
   "outputs": [
    {
     "name": "stderr",
     "output_type": "stream",
     "text": [
      "2024-09-02 13:26:31.907 WARNING streamlit.runtime.scriptrunner_utils.script_run_context: Thread 'MainThread': missing ScriptRunContext! This warning can be ignored when running in bare mode.\n"
     ]
    }
   ],
   "source": [
    "st.set_page_config(\n",
    "    page_title=\"F1 Analytics Dashboard\",\n",
    "    page_icon=\"🏎️\",\n",
    "    layout=\"wide\")"
   ]
  },
  {
   "cell_type": "code",
   "execution_count": 5,
   "id": "86de8a3d",
   "metadata": {},
   "outputs": [
    {
     "name": "stderr",
     "output_type": "stream",
     "text": [
      "2024-09-02 13:26:32.796 WARNING streamlit.runtime.scriptrunner_utils.script_run_context: Thread 'MainThread': missing ScriptRunContext! This warning can be ignored when running in bare mode.\n",
      "2024-09-02 13:26:32.995 \n",
      "  \u001b[33m\u001b[1mWarning:\u001b[0m to view this Streamlit app on a browser, run it with the following\n",
      "  command:\n",
      "\n",
      "    streamlit run /Users/radhikatodi/opt/anaconda3/lib/python3.9/site-packages/ipykernel_launcher.py [ARGUMENTS]\n",
      "2024-09-02 13:26:32.996 Thread 'MainThread': missing ScriptRunContext! This warning can be ignored when running in bare mode.\n"
     ]
    },
    {
     "data": {
      "text/plain": [
       "DeltaGenerator()"
      ]
     },
     "execution_count": 5,
     "metadata": {},
     "output_type": "execute_result"
    }
   ],
   "source": [
    "st.markdown(\n",
    "    \"\"\"\n",
    "    <style>\n",
    "    .main {\n",
    "        background-color: black;\n",
    "        color: white;\n",
    "    }\n",
    "    .block-container {\n",
    "        padding: 1rem;\n",
    "    }\n",
    "    </style>\n",
    "    \"\"\",\n",
    "    unsafe_allow_html=True\n",
    ")"
   ]
  },
  {
   "cell_type": "code",
   "execution_count": 6,
   "id": "0e6073db",
   "metadata": {},
   "outputs": [
    {
     "name": "stderr",
     "output_type": "stream",
     "text": [
      "2024-09-02 13:26:33.585 Thread 'MainThread': missing ScriptRunContext! This warning can be ignored when running in bare mode.\n",
      "2024-09-02 13:26:33.587 Thread 'MainThread': missing ScriptRunContext! This warning can be ignored when running in bare mode.\n"
     ]
    },
    {
     "data": {
      "text/plain": [
       "DeltaGenerator()"
      ]
     },
     "execution_count": 6,
     "metadata": {},
     "output_type": "execute_result"
    }
   ],
   "source": [
    "st.markdown(\n",
    "    \"\"\"\n",
    "    <style>\n",
    "    h4 {\n",
    "        color: white;\n",
    "        background-color: black;\n",
    "        padding: 10px;\n",
    "        border-radius: 5px;\n",
    "    }\n",
    "    </style>\n",
    "    \"\"\",\n",
    "    unsafe_allow_html=True\n",
    ")"
   ]
  },
  {
   "cell_type": "code",
   "execution_count": 7,
   "id": "da0d2030",
   "metadata": {},
   "outputs": [
    {
     "name": "stderr",
     "output_type": "stream",
     "text": [
      "2024-09-02 13:26:34.112 Thread 'MainThread': missing ScriptRunContext! This warning can be ignored when running in bare mode.\n",
      "2024-09-02 13:26:34.114 Thread 'MainThread': missing ScriptRunContext! This warning can be ignored when running in bare mode.\n"
     ]
    },
    {
     "data": {
      "text/plain": [
       "DeltaGenerator()"
      ]
     },
     "execution_count": 7,
     "metadata": {},
     "output_type": "execute_result"
    }
   ],
   "source": [
    "st.markdown(\n",
    "    \"\"\"\n",
    "    <style>\n",
    "    .css-1kq5h4w {\n",
    "        color: white !important;\n",
    "    }\n",
    "    .css-1kq5h4w span {\n",
    "        color: white !important;\n",
    "    }\n",
    "    </style>\n",
    "    \"\"\",\n",
    "    unsafe_allow_html=True\n",
    ")"
   ]
  },
  {
   "cell_type": "code",
   "execution_count": 8,
   "id": "bc56543a",
   "metadata": {},
   "outputs": [
    {
     "name": "stderr",
     "output_type": "stream",
     "text": [
      "2024-09-02 13:26:34.686 Thread 'MainThread': missing ScriptRunContext! This warning can be ignored when running in bare mode.\n",
      "2024-09-02 13:26:34.688 Thread 'MainThread': missing ScriptRunContext! This warning can be ignored when running in bare mode.\n"
     ]
    },
    {
     "data": {
      "text/plain": [
       "DeltaGenerator()"
      ]
     },
     "execution_count": 8,
     "metadata": {},
     "output_type": "execute_result"
    }
   ],
   "source": [
    "st.markdown(\n",
    "    \"\"\"\n",
    "    <style>\n",
    "    /* Change color of small headings (#####) to white */\n",
    "    h5 {\n",
    "        color: white !important;\n",
    "    }\n",
    "    </style>\n",
    "    \"\"\",\n",
    "    unsafe_allow_html=True\n",
    ")"
   ]
  },
  {
   "cell_type": "code",
   "execution_count": 9,
   "id": "08abd962",
   "metadata": {},
   "outputs": [
    {
     "name": "stderr",
     "output_type": "stream",
     "text": [
      "2024-09-02 13:26:35.245 Thread 'MainThread': missing ScriptRunContext! This warning can be ignored when running in bare mode.\n",
      "2024-09-02 13:26:35.250 Thread 'MainThread': missing ScriptRunContext! This warning can be ignored when running in bare mode.\n"
     ]
    },
    {
     "data": {
      "text/plain": [
       "DeltaGenerator()"
      ]
     },
     "execution_count": 9,
     "metadata": {},
     "output_type": "execute_result"
    }
   ],
   "source": [
    "st.markdown(\n",
    "    \"\"\"\n",
    "    <style>\n",
    "    /* Change text color in selectboxes */\n",
    "    .stSelectbox div[data-baseweb=\"select\"] > div {\n",
    "        color: white;\n",
    "    }\n",
    "\n",
    "    /* Change text color in number inputs */\n",
    "    .stNumberInput input {\n",
    "        color: white;\n",
    "    }\n",
    "\n",
    "    /* Optional: change background color of the input fields */\n",
    "    .stSelectbox div[data-baseweb=\"select\"] > div {\n",
    "        background-color: #333333;\n",
    "    }\n",
    "\n",
    "    .stNumberInput input {\n",
    "        background-color: #333333;\n",
    "    }\n",
    "\n",
    "    /* Remove the white outline from selectboxes */\n",
    "    .stSelectbox div[data-baseweb=\"select\"] {\n",
    "        border: none;\n",
    "    }\n",
    "\n",
    "    /* Remove border around the selectbox */\n",
    "    .stSelectbox div[data-baseweb=\"select\"] > div {\n",
    "        border: none;\n",
    "    }\n",
    "\n",
    "    /* Change background color of buttons */\n",
    "    .stButton button {\n",
    "        background-color: #333333;\n",
    "        color: white;\n",
    "    }\n",
    "\n",
    "    /* Optional: Change button hover effect */\n",
    "    .stButton button:hover {\n",
    "        background-color: #555555;\n",
    "        color: white;\n",
    "    }\n",
    "    </style>\n",
    "    \"\"\",\n",
    "    unsafe_allow_html=True\n",
    ")"
   ]
  },
  {
   "cell_type": "code",
   "execution_count": 10,
   "id": "b673e736",
   "metadata": {},
   "outputs": [],
   "source": [
    "driver_images = {\n",
    "    'M VERSTAPPEN': 'pics/VER.png',\n",
    "    'L NORRIS': 'pics/NOR.png',\n",
    "    'L HAMILTON': 'pics/HAM.png',\n",
    "    'O PIASTRI': 'pics/PIA.png',\n",
    "    'G RUSSEL': 'pics/RUS.png',\n",
    "    'S PEREZ': 'pics/PER.png',\n",
    "    'F ALONSO': 'pics/ALO.png',\n",
    "    'L STROLL': 'pics/STR.png',\n",
    "    'C LECLERC': 'pics/LEC.png',\n",
    "    'C SAINZ': 'pics/SAI.png',\n",
    "    'D RICCIARDO': 'pics/RIC.png',\n",
    "    'Y TSUNODA': 'pics/TSU.png',\n",
    "    'P GASLY': 'pics/GAS.png',\n",
    "    'E OCON': 'pics/OCO.png',\n",
    "    'A ALBON': 'pics/ALB.png',\n",
    "    'L SARGEANT': 'pics/SAR.png',\n",
    "    'V BOTTAS': 'pics/BOT.png',\n",
    "    'G ZHOU': 'pics/ZHO.png',\n",
    "    'K MAGNUSSEN': 'pics/MAG.png',\n",
    "    'N HULKENBERG': 'pics/HUL.png'\n",
    "}"
   ]
  },
  {
   "cell_type": "code",
   "execution_count": 11,
   "id": "d8a9b0cb",
   "metadata": {},
   "outputs": [],
   "source": [
    "def get_available_locations(year):\n",
    "    calendar = f1.get_event_schedule(year)\n",
    "    calendar['EventDate'] = pd.to_datetime(calendar['EventDate'])\n",
    "    today = datetime.now()\n",
    "    past_events = calendar[calendar['EventDate'] < today]\n",
    "    locations = past_events[['Location', 'Country']].drop_duplicates() \n",
    "    most_recent_event = calendar[calendar['EventDate'] <= today].sort_values(by='EventDate', ascending=False).iloc[0]\n",
    "    default_location = most_recent_event['Location']\n",
    "    default_country = most_recent_event['Country']\n",
    "    return locations, default_location, default_country, calendar"
   ]
  },
  {
   "cell_type": "code",
   "execution_count": 12,
   "id": "ebe5c3c0",
   "metadata": {},
   "outputs": [
    {
     "name": "stderr",
     "output_type": "stream",
     "text": [
      "2024-09-02 13:26:37.119 Thread 'MainThread': missing ScriptRunContext! This warning can be ignored when running in bare mode.\n",
      "2024-09-02 13:26:37.121 Thread 'MainThread': missing ScriptRunContext! This warning can be ignored when running in bare mode.\n",
      "2024-09-02 13:26:37.122 Thread 'MainThread': missing ScriptRunContext! This warning can be ignored when running in bare mode.\n",
      "2024-09-02 13:26:37.122 Thread 'MainThread': missing ScriptRunContext! This warning can be ignored when running in bare mode.\n",
      "2024-09-02 13:26:37.124 Thread 'MainThread': missing ScriptRunContext! This warning can be ignored when running in bare mode.\n",
      "2024-09-02 13:26:37.125 Thread 'MainThread': missing ScriptRunContext! This warning can be ignored when running in bare mode.\n",
      "2024-09-02 13:26:37.125 Thread 'MainThread': missing ScriptRunContext! This warning can be ignored when running in bare mode.\n",
      "2024-09-02 13:26:37.125 `label` got an empty value. This is discouraged for accessibility reasons and may be disallowed in the future by raising an exception. Please provide a non-empty label and hide it with label_visibility if needed.\n",
      "2024-09-02 13:26:37.126 Thread 'MainThread': missing ScriptRunContext! This warning can be ignored when running in bare mode.\n",
      "2024-09-02 13:26:37.127 Session state does not function when running a script without `streamlit run`\n",
      "2024-09-02 13:26:37.127 Thread 'MainThread': missing ScriptRunContext! This warning can be ignored when running in bare mode.\n",
      "2024-09-02 13:26:37.128 Thread 'MainThread': missing ScriptRunContext! This warning can be ignored when running in bare mode.\n",
      "2024-09-02 13:26:37.172 Thread 'MainThread': missing ScriptRunContext! This warning can be ignored when running in bare mode.\n",
      "2024-09-02 13:26:37.173 Thread 'MainThread': missing ScriptRunContext! This warning can be ignored when running in bare mode.\n",
      "2024-09-02 13:26:37.173 `label` got an empty value. This is discouraged for accessibility reasons and may be disallowed in the future by raising an exception. Please provide a non-empty label and hide it with label_visibility if needed.\n",
      "2024-09-02 13:26:37.174 Thread 'MainThread': missing ScriptRunContext! This warning can be ignored when running in bare mode.\n",
      "2024-09-02 13:26:37.174 Thread 'MainThread': missing ScriptRunContext! This warning can be ignored when running in bare mode.\n",
      "2024-09-02 13:26:37.174 Thread 'MainThread': missing ScriptRunContext! This warning can be ignored when running in bare mode.\n",
      "2024-09-02 13:26:37.175 Thread 'MainThread': missing ScriptRunContext! This warning can be ignored when running in bare mode.\n",
      "2024-09-02 13:26:37.175 Thread 'MainThread': missing ScriptRunContext! This warning can be ignored when running in bare mode.\n",
      "2024-09-02 13:26:37.175 Thread 'MainThread': missing ScriptRunContext! This warning can be ignored when running in bare mode.\n",
      "2024-09-02 13:26:37.175 Thread 'MainThread': missing ScriptRunContext! This warning can be ignored when running in bare mode.\n",
      "2024-09-02 13:26:37.176 Thread 'MainThread': missing ScriptRunContext! This warning can be ignored when running in bare mode.\n",
      "2024-09-02 13:26:37.176 Thread 'MainThread': missing ScriptRunContext! This warning can be ignored when running in bare mode.\n",
      "2024-09-02 13:26:37.176 Thread 'MainThread': missing ScriptRunContext! This warning can be ignored when running in bare mode.\n",
      "2024-09-02 13:26:37.176 Thread 'MainThread': missing ScriptRunContext! This warning can be ignored when running in bare mode.\n",
      "2024-09-02 13:26:37.177 Thread 'MainThread': missing ScriptRunContext! This warning can be ignored when running in bare mode.\n",
      "2024-09-02 13:26:37.177 Thread 'MainThread': missing ScriptRunContext! This warning can be ignored when running in bare mode.\n",
      "2024-09-02 13:26:37.177 Thread 'MainThread': missing ScriptRunContext! This warning can be ignored when running in bare mode.\n",
      "2024-09-02 13:26:37.177 Thread 'MainThread': missing ScriptRunContext! This warning can be ignored when running in bare mode.\n"
     ]
    }
   ],
   "source": [
    "col1, col2, col3 = st.columns((2.9, 2.9, 2.8), gap='large')\n",
    "\n",
    "with col1:\n",
    "    year = st.number_input('', min_value=2000, max_value=2024, value=2024)\n",
    "\n",
    "with col2:\n",
    "    locations, default_location, default_country, calendar = get_available_locations(year)\n",
    "    location_options = [f\"{loc} ({country})\" for loc, country in zip(locations['Location'], locations['Country'])]\n",
    "    default_location_index = location_options.index(f\"{default_location} ({default_country})\")\n",
    "    location_country = st.selectbox('', location_options, index=default_location_index)\n",
    "    location = location_country.split(' (')[0]\n",
    "\n",
    "with col3:\n",
    "    st.markdown(\"<br>\", unsafe_allow_html=True)\n",
    "    if st.button('Get Race Info'):\n",
    "        st.session_state.year = year\n",
    "        st.session_state.location = location\n",
    "        st.session_state.load_data = True"
   ]
  },
  {
   "cell_type": "code",
   "execution_count": 13,
   "id": "03d2b229",
   "metadata": {},
   "outputs": [
    {
     "name": "stderr",
     "output_type": "stream",
     "text": [
      "2024-09-02 13:26:37.750 Thread 'MainThread': missing ScriptRunContext! This warning can be ignored when running in bare mode.\n",
      "2024-09-02 13:26:37.753 Thread 'MainThread': missing ScriptRunContext! This warning can be ignored when running in bare mode.\n",
      "2024-09-02 13:26:37.754 Thread 'MainThread': missing ScriptRunContext! This warning can be ignored when running in bare mode.\n",
      "2024-09-02 13:26:37.755 Thread 'MainThread': missing ScriptRunContext! This warning can be ignored when running in bare mode.\n"
     ]
    }
   ],
   "source": [
    "col = st.columns((3, 3, 3), gap='large')"
   ]
  },
  {
   "cell_type": "code",
   "execution_count": 14,
   "id": "ae84015c",
   "metadata": {},
   "outputs": [
    {
     "name": "stderr",
     "output_type": "stream",
     "text": [
      "2024-09-02 13:26:38.333 Thread 'MainThread': missing ScriptRunContext! This warning can be ignored when running in bare mode.\n"
     ]
    }
   ],
   "source": [
    "with col[1]:\n",
    "    if 'load_data' in st.session_state and st.session_state.load_data:\n",
    "        try:\n",
    "            race, df, df_weather = get_race_dfs(year, location)\n",
    "            q1, q2, q3 = get_quali_dfs(year, location)\n",
    "            q1_pos, q2_pos, q3_pos = get_quali_results(q1, q2, q3)\n",
    "            results = race.results\n",
    "            fig1 = get_gap_to_pole(q3_pos)\n",
    "            \n",
    "            st.write(\"\\n\\n\")\n",
    "            st.write(\"\\n\\n\")\n",
    "            st.markdown(\"#### Gap to Pole\")\n",
    "            st.pyplot(fig1)\n",
    "                \n",
    "        except Exception as e:\n",
    "            st.error(f\"An error occurred: {e}\")"
   ]
  },
  {
   "cell_type": "code",
   "execution_count": 19,
   "id": "daf3381a",
   "metadata": {},
   "outputs": [],
   "source": [
    "with col[0]:\n",
    "     if 'q3' in locals() and 'q3_pos' in locals() and 'race' in locals() and 'df_weather' in locals():\n",
    "        try: \n",
    "            WinningDriver = results.iloc[0]['BroadcastName']\n",
    "            WinningDriver = WinningDriver.values[0] if isinstance(WinningDriver, pd.Series) else WinningDriver\n",
    "            \n",
    "            driver_image_path = driver_images.get(WinningDriver, 'pics/default_driver.png')\n",
    "            \n",
    "            st.write(\"\\n\\n\")\n",
    "            st.write(\"\\n\\n\")\n",
    "            st.write(\"\\n\\n\")\n",
    "            st.image(Image.open(driver_image_path), caption=f\"Winning Driver: {WinningDriver}\", use_column_width=True)  \n",
    "            \n",
    "            \n",
    "            fig3 = get_circuit_map(df, race, driver=None)\n",
    "            st.write(\"\\n\\n\")\n",
    "            st.pyplot(fig3)\n",
    "            \n",
    "            avg_track_temp = df_weather['TrackTemp'].mean()\n",
    "            avg_air_temp = df_weather['AirTemp'].mean()\n",
    "\n",
    "            col1, col2 = st.columns([1, 1])\n",
    "\n",
    "            with col1:\n",
    "                st.metric(label=\"Average Track Temperature\", value=f\"{avg_track_temp:.1f}°C\")\n",
    "\n",
    "            with col2:\n",
    "                st.metric(label=\"Average Air Temperature\", value=f\"{avg_air_temp:.1f}°C\")\n",
    "            \n",
    "        except Exception as e:\n",
    "            st.error(f'Error: {e}')"
   ]
  },
  {
   "cell_type": "code",
   "execution_count": 16,
   "id": "8da7b6e3",
   "metadata": {},
   "outputs": [],
   "source": [
    "with col[2]:\n",
    "    try:\n",
    "        if 'q3' in locals() and 'q3_pos' in locals() and 'race' in locals() and 'results' in locals():\n",
    "\n",
    "            fig8 = create_race_results_table(results)\n",
    "            fig8.update_layout(autosize=True, height=950)\n",
    "\n",
    "            st.plotly_chart(fig8, use_container_width=True)\n",
    "\n",
    "    except Exception as e:\n",
    "        st.error(f'Error: {e}')"
   ]
  },
  {
   "cell_type": "code",
   "execution_count": 17,
   "id": "4651d11b",
   "metadata": {},
   "outputs": [
    {
     "name": "stderr",
     "output_type": "stream",
     "text": [
      "2024-09-02 13:26:40.126 Thread 'MainThread': missing ScriptRunContext! This warning can be ignored when running in bare mode.\n",
      "2024-09-02 13:26:40.128 Thread 'MainThread': missing ScriptRunContext! This warning can be ignored when running in bare mode.\n",
      "2024-09-02 13:26:40.129 Thread 'MainThread': missing ScriptRunContext! This warning can be ignored when running in bare mode.\n",
      "2024-09-02 13:26:40.129 Thread 'MainThread': missing ScriptRunContext! This warning can be ignored when running in bare mode.\n",
      "2024-09-02 13:26:40.131 Thread 'MainThread': missing ScriptRunContext! This warning can be ignored when running in bare mode.\n"
     ]
    }
   ],
   "source": [
    "st.write(\"\\n\\n\")\n",
    "st.write(\"\\n\\n\")\n",
    "if 'df' in locals() and 'race' in locals() and 'results' in locals():\n",
    "    try:\n",
    "        plot_type = st.selectbox('Select Plot Type', ['Track Dominance', 'Race Pace Comparison', 'Driver Stat Comparison'])\n",
    "        \n",
    "        default_driver1 = results.iloc[0]['Abbreviation']\n",
    "        default_driver2 = results.iloc[1]['Abbreviation']\n",
    "        \n",
    "        with st.container():\n",
    "            col1, col2 = st.columns([1, 1])\n",
    "            with col1:\n",
    "                driver1 = st.selectbox('Driver 1', df['Driver'].unique(), index=df['Driver'].unique().tolist().index(default_driver1))\n",
    "            with col2:\n",
    "                driver2 = st.selectbox('Driver 2', df['Driver'].unique(), index=df['Driver'].unique().tolist().index(default_driver2))\n",
    "        \n",
    "        if plot_type == 'Race Pace Comparison':\n",
    "            if driver1 and driver2:\n",
    "                fig6 = compare_teammates(df, driver1, driver2) \n",
    "                st.markdown(\"#### Race Pace Comparison\")\n",
    "                st.pyplot(fig6)\n",
    "            else:\n",
    "                st.error('Please select both drivers.')\n",
    "                \n",
    "        elif plot_type == 'Track Dominance':\n",
    "            if driver1 and driver2:\n",
    "                col1, col2, col3 = st.columns([1, 2, 1])\n",
    "                with col2:\n",
    "                    fig5 = plot_track_dominance(race, driver1, driver2) \n",
    "                    st.markdown(\"#### Track Dominance\")\n",
    "                    st.pyplot(fig5)\n",
    "            else:\n",
    "                st.error('Please select both drivers.')\n",
    "            \n",
    "        elif plot_type == 'Driver Stat Comparison':\n",
    "            stat = st.selectbox('Select Stat', ['Speed', 'nGear', 'Throttle', 'DRS'])\n",
    "                \n",
    "            if driver1 and driver2 and stat:\n",
    "                fig7 = compare_driver_stats(df, race, driver1, driver2, stat)\n",
    "                st.markdown(\"#### Driver Comparison\")\n",
    "                st.pyplot(fig7)\n",
    "            else:\n",
    "                st.error('Please make all selections')\n",
    "                    \n",
    "    except Exception as e:\n",
    "        st.error(f\"An error occurred: {e}\")"
   ]
  },
  {
   "cell_type": "code",
   "execution_count": 18,
   "id": "54c47134",
   "metadata": {},
   "outputs": [
    {
     "name": "stderr",
     "output_type": "stream",
     "text": [
      "2024-09-02 13:26:40.738 Thread 'MainThread': missing ScriptRunContext! This warning can be ignored when running in bare mode.\n",
      "2024-09-02 13:26:40.741 Thread 'MainThread': missing ScriptRunContext! This warning can be ignored when running in bare mode.\n",
      "2024-09-02 13:26:40.741 Thread 'MainThread': missing ScriptRunContext! This warning can be ignored when running in bare mode.\n",
      "2024-09-02 13:26:40.742 Thread 'MainThread': missing ScriptRunContext! This warning can be ignored when running in bare mode.\n"
     ]
    }
   ],
   "source": [
    "st.write(\"\\n\\n\")\n",
    "st.write(\"\\n\\n\")\n",
    "st.write(\"\\n\\n\")\n",
    "st.write(\"\\n\\n\")\n",
    "if 'df' in locals():\n",
    "    try:\n",
    "        fig9 = plot_tyre_strategy(df)\n",
    "        \n",
    "        st.image(Image.open('pics/tyres.png'), use_column_width=True)\n",
    "        st.markdown('##### Tyre Strategy')\n",
    "        st.pyplot(fig9)\n",
    "        \n",
    "    except Exception as e:\n",
    "        st.error(f'Error: {e}') "
   ]
  },
  {
   "cell_type": "code",
   "execution_count": null,
   "id": "5e491c34",
   "metadata": {},
   "outputs": [],
   "source": []
  },
  {
   "cell_type": "code",
   "execution_count": null,
   "id": "1c0c4434",
   "metadata": {},
   "outputs": [],
   "source": []
  }
 ],
 "metadata": {
  "kernelspec": {
   "display_name": "Python 3 (ipykernel)",
   "language": "python",
   "name": "python3"
  },
  "language_info": {
   "codemirror_mode": {
    "name": "ipython",
    "version": 3
   },
   "file_extension": ".py",
   "mimetype": "text/x-python",
   "name": "python",
   "nbconvert_exporter": "python",
   "pygments_lexer": "ipython3",
   "version": "3.9.12"
  }
 },
 "nbformat": 4,
 "nbformat_minor": 5
}
